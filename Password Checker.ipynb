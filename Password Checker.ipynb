{
  "nbformat": 4,
  "nbformat_minor": 0,
  "metadata": {
    "colab": {
      "provenance": [],
      "authorship_tag": "ABX9TyNEF5TS+l9Dy57bMBr2IA8o",
      "include_colab_link": true
    },
    "kernelspec": {
      "name": "python3",
      "display_name": "Python 3"
    },
    "language_info": {
      "name": "python"
    }
  },
  "cells": [
    {
      "cell_type": "markdown",
      "metadata": {
        "id": "view-in-github",
        "colab_type": "text"
      },
      "source": [
        "<a href=\"https://colab.research.google.com/github/vishnupyt/python-string-miniproject/blob/main/Password%20Checker.ipynb\" target=\"_parent\"><img src=\"https://colab.research.google.com/assets/colab-badge.svg\" alt=\"Open In Colab\"/></a>"
      ]
    },
    {
      "cell_type": "code",
      "execution_count": null,
      "metadata": {
        "id": "yS7eKqinA0aZ"
      },
      "outputs": [],
      "source": [
        "#Password Checker\n",
        "\n",
        "enter_password = input(\"Enter a Password: \")\n",
        "\n",
        "def password_checker(password):\n",
        "  #Check for length for password\n",
        "  length_password = len(password)\n",
        "  if length_password < 8:\n",
        "    print(\"Password must be atleast 8 letters long !\")\n",
        "\n",
        "  #Initialise Criteria\n",
        "  has_uppercase = any(char.isupper() for char in password)\n",
        "  has_lowercase = any(char.islower() for char in password)\n",
        "  has_digit = any(char.isdigit() for char in password)\n",
        "  has_special_char = any(not char.isalnum() for char in password)\n",
        "\n",
        "  #Identify Missing Criteria\n",
        "  missing_criteria = []\n",
        "  if not has_uppercase:\n",
        "    missing_criteria.append(\"uppercase letter\")\n",
        "  if not has_lowercase:\n",
        "    missing_criteria.append(\"lowercase letter\")\n",
        "  if not has_digit:\n",
        "    missing_criteria.append(\"digit\")\n",
        "  if not has_special_char:\n",
        "    missing_criteria.append(\"special character\")\n",
        "\n",
        "  if not missing_criteria:\n",
        "    print(\"Password satisfies all the criteria !\")\n",
        "  else:\n",
        "    print(\"Weak Password !\")\n",
        "    print(f\"Missing Criteria: {', '.join(missing_criteria)}\")\n",
        "\n",
        "\n",
        "print(password_checker(enter_password))"
      ]
    }
  ]
}